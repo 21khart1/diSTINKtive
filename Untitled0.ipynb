{
  "nbformat": 4,
  "nbformat_minor": 0,
  "metadata": {
    "colab": {
      "name": "Untitled0.ipynb",
      "provenance": [],
      "include_colab_link": true
    },
    "kernelspec": {
      "name": "python3",
      "display_name": "Python 3"
    }
  },
  "cells": [
    {
      "cell_type": "markdown",
      "metadata": {
        "id": "view-in-github",
        "colab_type": "text"
      },
      "source": [
        "<a href=\"https://colab.research.google.com/github/21khart1/diSTINKtive/blob/master/Untitled0.ipynb\" target=\"_parent\"><img src=\"https://colab.research.google.com/assets/colab-badge.svg\" alt=\"Open In Colab\"/></a>"
      ]
    },
    {
      "cell_type": "code",
      "metadata": {
        "id": "w9aXeERuauVi",
        "colab_type": "code",
        "outputId": "4a90977c-a48e-4af9-b7d2-2231e96cacf0",
        "colab": {
          "base_uri": "https://localhost:8080/",
          "height": 34
        }
      },
      "source": [
        "var = 'a variable'\n",
        "print(var)"
      ],
      "execution_count": 0,
      "outputs": [
        {
          "output_type": "stream",
          "text": [
            "a variable\n"
          ],
          "name": "stdout"
        }
      ]
    },
    {
      "cell_type": "code",
      "metadata": {
        "id": "nT8webFcuisG",
        "colab_type": "code",
        "outputId": "b892f5ad-eb98-4c16-a312-bc3eb33072ab",
        "colab": {
          "base_uri": "https://localhost:8080/",
          "height": 51
        }
      },
      "source": [
        "print(\"I think it worked\")\n",
        "print(\"sweet!\")"
      ],
      "execution_count": 0,
      "outputs": [
        {
          "output_type": "stream",
          "text": [
            "I think it worked\n",
            "sweet!\n"
          ],
          "name": "stdout"
        }
      ]
    },
    {
      "cell_type": "markdown",
      "metadata": {
        "id": "o6zSuSJ0hxVt",
        "colab_type": "text"
      },
      "source": [
        "Each code cell (thing above) is a place where you can write a little (or a lot) of python code. Use the play button (hover over the `[ ]`) to run the code. The output from running the code is displayed below the cell."
      ]
    },
    {
      "cell_type": "code",
      "metadata": {
        "id": "tpmO5reFhw6h",
        "colab_type": "code",
        "outputId": "2621c63f-9e2a-4614-8944-2fdc65db0ef1",
        "colab": {
          "base_uri": "https://localhost:8080/",
          "height": 34
        }
      },
      "source": [
        "print(var + ' is available here too')"
      ],
      "execution_count": 0,
      "outputs": [
        {
          "output_type": "stream",
          "text": [
            "a variable is available here too\n"
          ],
          "name": "stdout"
        }
      ]
    },
    {
      "cell_type": "markdown",
      "metadata": {
        "id": "p2wIjSiziebb",
        "colab_type": "text"
      },
      "source": [
        "You can access variables from other code cells in later code cells."
      ]
    },
    {
      "cell_type": "code",
      "metadata": {
        "id": "Dcq1qcOrjR9M",
        "colab_type": "code",
        "outputId": "3eb80ac1-74c0-4b23-a139-0d997f1ff9a4",
        "colab": {
          "base_uri": "https://localhost:8080/",
          "height": 51
        }
      },
      "source": [
        "import keras\n",
        "import tensorflow\n",
        "print('Keras version: ' + keras.__version__)\n",
        "print('Tensorflow version: ' + tensorflow.__version__)"
      ],
      "execution_count": 0,
      "outputs": [
        {
          "output_type": "stream",
          "text": [
            "Keras version: 2.2.5\n",
            "Tensorflow version: 1.15.0\n"
          ],
          "name": "stdout"
        }
      ]
    },
    {
      "cell_type": "markdown",
      "metadata": {
        "id": "MvEZY_LskJ_-",
        "colab_type": "text"
      },
      "source": [
        "Tensorflow and keras are already installed and ready to use"
      ]
    }
  ]
}